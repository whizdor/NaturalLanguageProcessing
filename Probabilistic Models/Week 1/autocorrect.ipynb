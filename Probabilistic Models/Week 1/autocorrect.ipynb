{
 "cells": [
  {
   "cell_type": "markdown",
   "metadata": {},
   "source": [
    "# Autocorrect\n",
    "\n",
    "We use a dynamic programming approach to find the mininmum edit distance to predict the correct spelling of a word.\n",
    "\n",
    "### Identify a misseplled word\n",
    "\n",
    "If the word is spelled correctly then it will be in the dictionary (most probably).\n",
    "\n",
    "if word not in vocab:\n",
    "    misspelled = True\n",
    "\n",
    "i.e flag the word for correction.\n",
    "\n",
    "### Find strings that are n edit distance away.\n",
    "\n",
    "- edit\n",
    "- insert\n",
    "- delete\n",
    "- switch (swap two adjecent letters)\n",
    "- replace\n",
    "\n",
    "by combining these edits you can get a list of all the string that are possible.\n",
    "for autocorrect, these strings are usually two to three edits away.\n",
    "\n",
    "### Filter Candidates\n",
    "\n",
    "to remove the non-actual words, remove the words that are not in the dictionary.\n",
    "now you have a much refined list of words.\n",
    "\n",
    "### Calculate the Probability for a word to be correct.\n",
    "\n",
    "Example : \"I am happy because I am learning\" \n",
    "\n",
    "We find the word candidate with the highest probability and replace it."
   ]
  },
  {
   "cell_type": "markdown",
   "metadata": {},
   "source": [
    "## Minimum Edit Distance\n",
    "\n",
    "given two strings, minimum edit distance is the minimum number of edits (insert, delete, replace) that are needed to transform one string to another.\n",
    "uses - spelling correction, document similarity, machine translation, DNA sequencing and more\n",
    "\n",
    "#### Edit Costs\n",
    "insert - 1\n",
    "delete - 1\n",
    "replace - 2\n",
    "\n",
    "### Dynamic Programming to calculate the minimum edit distance.\n",
    "\n",
    "D[i,j] in the matrix represents the minium edit distance for converting string 0:i to sting 0:j\n",
    "Compute this using dyanmic programming.\n",
    "\n",
    "For Eg:\n",
    "\n",
    "D[0,0] = 0\n",
    "D[1,0] = 1\n",
    "D[0,1] = 1\n",
    "D[1,1] = 2 (either one insert and one delete or one replace)\n",
    "\n",
    "thus,\n",
    "now we fill the first row and the first column, so that each cell has it's own neighbour every time to build upon.\n",
    "\n",
    "D[i,j] = D[i-1,j] + del_cost\n",
    "D[i,j] = D[i,j-1] + ins_cost\n",
    "\n",
    "now generalising it \n",
    "D[i,j] is the minimum, of \n",
    "- D[i-1,j] + del_cost\n",
    "- D[i,j-1] + ins_cost\n",
    "- D[i-1,j-1] + {rep_cost if source[i] != source[j], else 0}\n",
    "\n",
    "This is known as Levenshtein Distance\n",
    "\n",
    "#### Backtracing\n",
    "Can be done to store, how we arrived at a particular word replacement (can be done using a pointer.)"
   ]
  },
  {
   "cell_type": "markdown",
   "metadata": {},
   "source": []
  }
 ],
 "metadata": {
  "kernelspec": {
   "display_name": "Python 3",
   "language": "python",
   "name": "python3"
  },
  "language_info": {
   "codemirror_mode": {
    "name": "ipython",
    "version": 3
   },
   "file_extension": ".py",
   "mimetype": "text/x-python",
   "name": "python",
   "nbconvert_exporter": "python",
   "pygments_lexer": "ipython3",
   "version": "3.9.6"
  }
 },
 "nbformat": 4,
 "nbformat_minor": 2
}
