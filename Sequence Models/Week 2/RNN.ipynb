{
 "cells": [
  {
   "cell_type": "code",
   "execution_count": null,
   "metadata": {},
   "outputs": [],
   "source": []
  },
  {
   "cell_type": "markdown",
   "metadata": {},
   "source": [
    "# RNN\n",
    "\n",
    "RNNs can be efficient for tasks such as machine translation\n",
    "\n",
    "### Traditional Language Models\n",
    "\n",
    "If you had to use an n-gram model, the amount of space that will be captures by the matrices is huge. In order to properly calculate longer order of dependencies, higher n-grams have to be stored. This can become burdensome, and developers will not prefer this.\n",
    "\n",
    "### Advantages of RNNs\n",
    "\n",
    "Nour was supposed to study with me. I called her but she did not ---- . n-grams are limited to looking only at the previous n words, but RNNs propagate the data further form the beginnning of the sentence to the end.\n",
    "\n",
    "### Types of RNNs\n",
    "\n",
    "1. One-To-One : Takes a set of n non-realted features x and returns a single value y.\n",
    "RNNs are not that useful for this kind of task.\n",
    "\n",
    "2. One-To-Many: Generating Captions from Images.\n",
    "\n",
    "3. Many-To-One: Sentiment Analysis\n",
    "\n",
    "4. Many-To-Many: Encoder-Decoder Architechture\n",
    "\n",
    "### Math behind RNNs\n",
    "\n",
    "h^\\<t\\> = g(W_h[h^\\<t-1\\>,x^\\<t\\>] + b_h)\n",
    "\n",
    "y^\\<t\\> = Activation g(W_yh h\\<t\\> + b_y)\n",
    "\n",
    "### Cost Function for RNNs\n",
    "\n",
    "Loss can be found using the cross entropy function, averaged over time.\n",
    "\n",
    "### Scan Function\n",
    "\n",
    "    def scan(fn, elems, intializr=None, ...):\n",
    "        cur_value = initializer\n",
    "        ys = []\n",
    "        for x in elems:\n",
    "            y, cur_value = fn(x, cur_value)\n",
    "            ys.append(y)\n",
    "        return ys, cur_value\n",
    "\n",
    "## Gated Recurrent Units (GRUs)\n",
    "\n",
    "These models allows relevelant information to be kept in the hidden states, by using a term 'relevance'.\n",
    "\n",
    "\n"
   ]
  },
  {
   "cell_type": "markdown",
   "metadata": {},
   "source": [
    "### "
   ]
  }
 ],
 "metadata": {
  "language_info": {
   "name": "python"
  }
 },
 "nbformat": 4,
 "nbformat_minor": 2
}
